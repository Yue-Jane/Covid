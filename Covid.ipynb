{
 "cells": [
  {
   "cell_type": "markdown",
   "id": "497db237-33e6-4515-8228-0fff2b70f92d",
   "metadata": {},
   "source": [
    "# Some COVID Analysis\n",
    "Calculates the mean and standard deviation of the lengths and gc content of coronavirus genomes\n",
    "Coronavirus geneomes downloaded from NCBI (see `data/data.md` for more details)\n",
    "\n",
    "## 1. Load in Data\n",
    "```julia\n",
    "using BISC195\n",
    "genomes = parse_fasta(\"../data/cov-sequences.fasta\")\n",
    "``` \n",
    "\n",
    "## 2. Calculate the mean length of the genomes\n",
    "```julia\n",
    "len = 0\n",
    "count = length(genomes[2])\n",
    "for sequence in genomes[2]\n",
    "    len += length(sequence)\n",
    "return len/count\n",
    "```"
   ]
  },
  {
   "cell_type": "code",
   "execution_count": 12,
   "id": "b69d5b70-8129-4abc-9369-ed0ac2253c68",
   "metadata": {},
   "outputs": [
    {
     "data": {
      "text/plain": [
       "([\"header1\", \"header2\"], [\"ATTCG\", \"CCGGATTCG\"])"
      ]
     },
     "execution_count": 12,
     "metadata": {},
     "output_type": "execute_result"
    }
   ],
   "source": [
    "using BISC195\n",
    "genomes = ([\"header1\", \"header2\"], [\"ATTCG\", \"CCGGATTCG\"])"
   ]
  },
  {
   "cell_type": "code",
   "execution_count": 15,
   "id": "5ccd3f0d-5c2e-4e3d-9250-230296aa2158",
   "metadata": {},
   "outputs": [
    {
     "data": {
      "text/plain": [
       "7.0"
      ]
     },
     "execution_count": 15,
     "metadata": {},
     "output_type": "execute_result"
    }
   ],
   "source": [
    "len = 0\n",
    "count = length(genomes[2])\n",
    "for sequence in genomes[2]\n",
    "    len += length(sequence)\n",
    "end\n",
    "mean = len/count"
   ]
  },
  {
   "cell_type": "code",
   "execution_count": 16,
   "id": "b0c49793-0dda-414f-bf7b-f7c85495e248",
   "metadata": {},
   "outputs": [
    {
     "data": {
      "text/plain": [
       "2.8284271247461903"
      ]
     },
     "execution_count": 16,
     "metadata": {},
     "output_type": "execute_result"
    }
   ],
   "source": [
    "distance = 0\n",
    "for sequence in genomes[2]\n",
    "    distance += (length(sequence)-mean)^2\n",
    "end\n",
    "std = sqrt(distance/(count-1))"
   ]
  },
  {
   "cell_type": "code",
   "execution_count": null,
   "id": "266a3e7f-e61c-4105-aeb5-b929a2e26339",
   "metadata": {},
   "outputs": [],
   "source": []
  }
 ],
 "metadata": {
  "kernelspec": {
   "display_name": "Julia 1.9.1",
   "language": "julia",
   "name": "julia-1.9"
  },
  "language_info": {
   "file_extension": ".jl",
   "mimetype": "application/julia",
   "name": "julia",
   "version": "1.9.1"
  }
 },
 "nbformat": 4,
 "nbformat_minor": 5
}
